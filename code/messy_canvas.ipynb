{
 "cells": [
  {
   "cell_type": "code",
   "execution_count": 10,
   "metadata": {},
   "outputs": [
    {
     "name": "stderr",
     "output_type": "stream",
     "text": [
      "usage: ipykernel_launcher.py [-h] [--debug] [--template TEMPLATE]\n",
      "                             [--n_threads N_THREADS] [--no_cuda]\n",
      "                             [--n_GPUs N_GPUS] [--seed SEED]\n",
      "                             [--dir_data DIR_DATA] [--data_train DATA_TRAIN]\n",
      "                             [--data_test DATA_TEST] [--n_train N_TRAIN]\n",
      "                             [--n_val N_VAL] [--offset_val OFFSET_VAL]\n",
      "                             [--ext EXT] [--scale SCALE]\n",
      "                             [--patch_size PATCH_SIZE] [--rgb_range RGB_RANGE]\n",
      "                             [--n_colors N_COLORS] [--quality QUALITY]\n",
      "                             [--chop_forward] [--model MODEL] [--act ACT]\n",
      "                             [--pre_train PRE_TRAIN] [--extend EXTEND]\n",
      "                             [--n_resblocks N_RESBLOCKS] [--n_feats N_FEATS]\n",
      "                             [--res_scale RES_SCALE] [--shift_mean SHIFT_MEAN]\n",
      "                             [--reset] [--test_every TEST_EVERY] [--test_only]\n",
      "                             [--epochs EPOCHS] [--resume RESUME]\n",
      "                             [--batch_size BATCH_SIZE] [--self_ensemble]\n",
      "                             [--lr LR] [--lr_decay LR_DECAY]\n",
      "                             [--decay_type DECAY_TYPE] [--gamma GAMMA]\n",
      "                             [--optimizer {SGD,ADAM,RMSprop}]\n",
      "                             [--momentum MOMENTUM] [--beta1 BETA1]\n",
      "                             [--beta2 BETA2] [--epsilon EPSILON] [--loss LOSS]\n",
      "                             [--save SAVE] [--load LOAD] [--print_model]\n",
      "                             [--print_every PRINT_EVERY] [--save_results]\n",
      "ipykernel_launcher.py: error: unrecognized arguments: -f /run/user/1001/jupyter/kernel-1d7e373c-23f8-4a00-8e01-60848cc26725.json\n"
     ]
    },
    {
     "ename": "SystemExit",
     "evalue": "2",
     "output_type": "error",
     "traceback": [
      "An exception has occurred, use %tb to see the full traceback.\n",
      "\u001b[0;31mSystemExit\u001b[0m\u001b[0;31m:\u001b[0m 2\n"
     ]
    },
    {
     "name": "stderr",
     "output_type": "stream",
     "text": [
      "/home/Sachit/anaconda3/envs/fastai/lib/python3.6/site-packages/IPython/core/interactiveshell.py:2918: UserWarning: To exit: use 'exit', 'quit', or Ctrl-D.\n",
      "  warn(\"To exit: use 'exit', 'quit', or Ctrl-D.\", stacklevel=1)\n"
     ]
    }
   ],
   "source": [
    "import torch\n",
    "\n",
    "import utils\n",
    "from option import args\n",
    "from data import data\n",
    "from trainer import Trainer\n",
    "\n",
    "torch.manual_seed(args.seed)\n",
    "checkpoint = utils.checkpoint(args)\n",
    "\n",
    "if checkpoint.ok:\n",
    "    my_loader = data(args).get_loader()\n",
    "    t = Trainer(my_loader, checkpoint, args)\n",
    "    while not t.terminate():\n",
    "        t.train()\n",
    "        t.test()\n",
    "\n",
    "    checkpoint.done()"
   ]
  },
  {
   "cell_type": "code",
   "execution_count": 11,
   "metadata": {},
   "outputs": [],
   "source": [
    "from model import common\n",
    "\n",
    "import torch.nn as nn\n",
    "\n",
    "def make_model(args, parent=False):\n",
    "    return EDSR(args)\n",
    "\n",
    "class EDSR(nn.Module):\n",
    "    def __init__(self, args, conv=common.default_conv):\n",
    "        super(EDSR, self).__init__()\n",
    "\n",
    "        n_resblock = args.n_resblocks\n",
    "        n_feats = args.n_feats\n",
    "        kernel_size = 3 \n",
    "        scale = args.scale[0]\n",
    "        act = nn.ReLU(True)\n",
    "\n",
    "        rgb_mean = (0.4488, 0.4371, 0.4040)\n",
    "        self.sub_mean = common.MeanShift(args.rgb_range, rgb_mean, -1)\n",
    "        \n",
    "        # define head module\n",
    "        modules_head = [conv(args.n_colors, n_feats, kernel_size)]\n",
    "\n",
    "        # define body module\n",
    "        modules_body = [\n",
    "            common.ResBlock(\n",
    "                conv, n_feats, kernel_size, act=act, res_scale=args.res_scale) \\\n",
    "            for _ in range(n_resblock)]\n",
    "        modules_body.append(conv(n_feats, n_feats, kernel_size))\n",
    "\n",
    "        # define tail module\n",
    "        modules_tail = [\n",
    "            common.Upsampler(conv, scale, n_feats, act=False),\n",
    "            conv(n_feats, args.n_colors, kernel_size)]\n",
    "\n",
    "        self.add_mean = common.MeanShift(args.rgb_range, rgb_mean, 1)\n",
    "\n",
    "        self.head = nn.Sequential(*modules_head)\n",
    "        self.body = nn.Sequential(*modules_body)\n",
    "        self.tail = nn.Sequential(*modules_tail)\n",
    "\n",
    "    def forward(self, x):\n",
    "        x = self.sub_mean(x)\n",
    "        x = self.head(x)\n",
    "\n",
    "        res = self.body(x)\n",
    "        res += x\n",
    "\n",
    "        x = self.tail(res)\n",
    "        x = self.add_mean(x)\n",
    "\n",
    "        return x \n",
    "\n",
    "    def load_state_dict(self, state_dict, strict=True):\n",
    "        own_state = self.state_dict()\n",
    "        for name, param in state_dict.items():\n",
    "            if name in own_state:\n",
    "                if isinstance(param, nn.Parameter):\n",
    "                    param = param.data\n",
    "                try:\n",
    "                    own_state[name].copy_(param)\n",
    "                except Exception:\n",
    "                    if name.find('tail') == -1:\n",
    "                        raise RuntimeError('While copying the parameter named {}, '\n",
    "                                           'whose dimensions in the model are {} and '\n",
    "                                           'whose dimensions in the checkpoint are {}.'\n",
    "                                           .format(name, own_state[name].size(), param.size()))\n",
    "            elif strict:\n",
    "                if name.find('tail') == -1:\n",
    "                    raise KeyError('unexpected key \"{}\" in state_dict'\n",
    "                                   .format(name))\n",
    "\n",
    "        if strict:\n",
    "            missing = set(own_state.keys()) - set(state_dict.keys())\n",
    "            if len(missing) > 0:\n",
    "                raise KeyError('missing keys in state_dict: \"{}\"'.format(missing))"
   ]
  },
  {
   "cell_type": "code",
   "execution_count": 3,
   "metadata": {},
   "outputs": [],
   "source": [
    "from dataload"
   ]
  },
  {
   "cell_type": "code",
   "execution_count": null,
   "metadata": {},
   "outputs": [],
   "source": [
    "my_loader = dataloader."
   ]
  },
  {
   "cell_type": "code",
   "execution_count": 4,
   "metadata": {},
   "outputs": [],
   "source": [
    "from data import data"
   ]
  },
  {
   "cell_type": "code",
   "execution_count": 13,
   "metadata": {},
   "outputs": [
    {
     "ename": "ModuleNotFoundError",
     "evalue": "No module named 'EDSR'",
     "output_type": "error",
     "traceback": [
      "\u001b[0;31m---------------------------------------------------------------------------\u001b[0m",
      "\u001b[0;31mModuleNotFoundError\u001b[0m                       Traceback (most recent call last)",
      "\u001b[0;32m<ipython-input-13-f701e2307a3c>\u001b[0m in \u001b[0;36m<module>\u001b[0;34m()\u001b[0m\n\u001b[0;32m----> 1\u001b[0;31m \u001b[0;32mfrom\u001b[0m \u001b[0mEDSR\u001b[0m \u001b[0;32mimport\u001b[0m \u001b[0mEDSR\u001b[0m\u001b[0;34m\u001b[0m\u001b[0m\n\u001b[0m",
      "\u001b[0;31mModuleNotFoundError\u001b[0m: No module named 'EDSR'"
     ]
    }
   ],
   "source": [
    "from EDSR import EDSR"
   ]
  },
  {
   "cell_type": "code",
   "execution_count": 5,
   "metadata": {},
   "outputs": [
    {
     "ename": "TypeError",
     "evalue": "get_loader() missing 1 required positional argument: 'self'",
     "output_type": "error",
     "traceback": [
      "\u001b[0;31m---------------------------------------------------------------------------\u001b[0m",
      "\u001b[0;31mTypeError\u001b[0m                                 Traceback (most recent call last)",
      "\u001b[0;32m<ipython-input-5-a88190e6a20c>\u001b[0m in \u001b[0;36m<module>\u001b[0;34m()\u001b[0m\n\u001b[0;32m----> 1\u001b[0;31m \u001b[0mmy_loader\u001b[0m \u001b[0;34m=\u001b[0m \u001b[0mdata\u001b[0m\u001b[0;34m.\u001b[0m\u001b[0mget_loader\u001b[0m\u001b[0;34m(\u001b[0m\u001b[0;34m)\u001b[0m\u001b[0;34m\u001b[0m\u001b[0m\n\u001b[0m",
      "\u001b[0;31mTypeError\u001b[0m: get_loader() missing 1 required positional argument: 'self'"
     ]
    }
   ],
   "source": [
    "my_loader = data.get_loader()"
   ]
  },
  {
   "cell_type": "code",
   "execution_count": 1,
   "metadata": {},
   "outputs": [],
   "source": [
    "import bcolz\n",
    "import numpy as np\n",
    "import utils\n",
    "import matplotlib.pyplot as plt"
   ]
  },
  {
   "cell_type": "code",
   "execution_count": 2,
   "metadata": {},
   "outputs": [],
   "source": [
    "%matplotlib inline"
   ]
  },
  {
   "cell_type": "code",
   "execution_count": 7,
   "metadata": {},
   "outputs": [],
   "source": [
    "a = utils.load_array('../experiment/lr_find_edsr2/lr_history_epoch1.bc')\n",
    "b = utils.load_array('../experiment/lr_find_edsr2/loss_history_epoch1.bc')"
   ]
  },
  {
   "cell_type": "code",
   "execution_count": 10,
   "metadata": {},
   "outputs": [
    {
     "data": {
      "text/plain": [
       "[<matplotlib.lines.Line2D at 0x7f00eb853780>]"
      ]
     },
     "execution_count": 10,
     "metadata": {},
     "output_type": "execute_result"
    },
    {
     "data": {
      "image/png": "[encoded data removed]",
      "text/plain": [
       "<matplotlib.figure.Figure at 0x7f00eba91c50>"
      ]
     },
     "metadata": {},
     "output_type": "display_data"
    }
   ],
   "source": [
    "plt.plot(a,b)"
   ]
  },
  {
   "cell_type": "code",
   "execution_count": 24,
   "metadata": {},
   "outputs": [],
   "source": [
    "c = utils.load_array('../experiment/cos_ann2/lr_history_epoch2.bc')"
   ]
  },
  {
   "cell_type": "code",
   "execution_count": 29,
   "metadata": {},
   "outputs": [],
   "source": [
    "d = np.array(list(range(len(c))))*16"
   ]
  },
  {
   "cell_type": "code",
   "execution_count": 30,
   "metadata": {},
   "outputs": [
    {
     "data": {
      "text/plain": [
       "array([   0,   16,   32,   48,   64,   80,   96,  112,  128,  144,  160,\n",
       "        176,  192,  208,  224,  240,  256,  272,  288,  304,  320,  336,\n",
       "        352,  368,  384,  400,  416,  432,  448,  464,  480,  496,  512,\n",
       "        528,  544,  560,  576,  592,  608,  624,  640,  656,  672,  688,\n",
       "        704,  720,  736,  752,  768,  784,  800,  816,  832,  848,  864,\n",
       "        880,  896,  912,  928,  944,  960,  976,  992, 1008, 1024, 1040,\n",
       "       1056, 1072, 1088, 1104, 1120, 1136, 1152, 1168, 1184, 1200, 1216,\n",
       "       1232, 1248, 1264, 1280, 1296, 1312, 1328, 1344, 1360, 1376, 1392,\n",
       "       1408, 1424, 1440, 1456, 1472, 1488, 1504, 1520, 1536, 1552, 1568,\n",
       "       1584])"
      ]
     },
     "execution_count": 30,
     "metadata": {},
     "output_type": "execute_result"
    }
   ],
   "source": [
    "d"
   ]
  },
  {
   "cell_type": "code",
   "execution_count": 31,
   "metadata": {},
   "outputs": [
    {
     "data": {
      "text/plain": [
       "[<matplotlib.lines.Line2D at 0x7fbe6ea0e9b0>]"
      ]
     },
     "execution_count": 31,
     "metadata": {},
     "output_type": "execute_result"
    },
    {
     "data": {
      "image/png": "[encoded data removed]",
      "text/plain": [
       "<matplotlib.figure.Figure at 0x7fbe6eab2240>"
      ]
     },
     "metadata": {},
     "output_type": "display_data"
    }
   ],
   "source": [
    "plt.plot(d,c)"
   ]
  },
  {
   "cell_type": "code",
   "execution_count": 18,
   "metadata": {},
   "outputs": [
    {
     "data": {
      "text/plain": [
       "(50,)"
      ]
     },
     "execution_count": 18,
     "metadata": {},
     "output_type": "execute_result"
    }
   ],
   "source": [
    "c.shape"
   ]
  },
  {
   "cell_type": "code",
   "execution_count": null,
   "metadata": {},
   "outputs": [],
   "source": []
  }
 ],
 "metadata": {
  "kernelspec": {
   "display_name": "Python 3",
   "language": "python",
   "name": "python3"
  },
  "language_info": {
   "codemirror_mode": {
    "name": "ipython",
    "version": 3
   },
   "file_extension": ".py",
   "mimetype": "text/x-python",
   "name": "python",
   "nbconvert_exporter": "python",
   "pygments_lexer": "ipython3",
   "version": "3.6.4"
  }
 },
 "nbformat": 4,
 "nbformat_minor": 2
}
